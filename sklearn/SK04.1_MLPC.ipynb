{
 "cells": [
  {
   "cell_type": "markdown",
   "id": "740986f5-d91a-42d2-a201-c5e4afda5397",
   "metadata": {},
   "source": [
    "# Multi-Layered Perceptron"
   ]
  },
  {
   "cell_type": "markdown",
   "id": "a3528bd5-7848-43ee-b2b1-f6375c50015c",
   "metadata": {},
   "source": [
    "## Laden des Digits-Datensatzes"
   ]
  },
  {
   "cell_type": "code",
   "execution_count": 1,
   "id": "8454c310-0f8e-4c54-b0ee-6039eb5656f3",
   "metadata": {},
   "outputs": [],
   "source": [
    "from sklearn.datasets import load_digits\n",
    "\n",
    "digits = load_digits()\n",
    "X, y, images = digits.data, digits.target, digits.images"
   ]
  },
  {
   "cell_type": "code",
   "execution_count": 2,
   "id": "ab4dcedb-ffb7-4eee-a70f-2fab4b078426",
   "metadata": {},
   "outputs": [
    {
     "data": {
      "image/png": "[encoded data removed]",
      "text/plain": [
       "<Figure size 640x480 with 40 Axes>"
      ]
     },
     "metadata": {},
     "output_type": "display_data"
    }
   ],
   "source": [
    "import matplotlib.pyplot as plt\n",
    "\n",
    "def gallery(images, rows, cols, cmap=None):\n",
    "    for n in range(rows * cols):          \n",
    "        plt.subplot(rows, cols,n+1)\n",
    "        ax = plt.gca()\n",
    "        ax.axes.xaxis.set_visible(False)\n",
    "        ax.axes.yaxis.set_visible(False)          \n",
    "        plt.imshow(images[n], cmap) \n",
    "\n",
    "gallery(images,5,8,cmap='Blues') \n",
    "plt.show()    "
   ]
  },
  {
   "cell_type": "markdown",
   "id": "8ec37ef3-b0cc-4fe8-bea4-ad6521d145ec",
   "metadata": {},
   "source": [
    "### Aufteilung der Daten"
   ]
  },
  {
   "cell_type": "code",
   "execution_count": 3,
   "id": "7d8a0cb7-f8d4-4a82-a4a4-eb34677414b8",
   "metadata": {},
   "outputs": [],
   "source": [
    "train_size = int(0.7 * len(X))\n",
    "\n",
    "X_train, X_test, y_train, y_test = X[:train_size], X[train_size:], y[:train_size], y[train_size:]"
   ]
  },
  {
   "cell_type": "markdown",
   "id": "1d834b5b-5cab-4956-adfc-cba24d4c5b13",
   "metadata": {},
   "source": [
    "## Erzeugung und Training des Klassifizieres\n",
    "\n",
    "\n",
    "**MLPClassifier** steht für *Multi-Layer Perceptron Classifier*. Dieser implementiert ein mehrschichtiges Perzeptron (ein künstliches neuronales Netzwerk) das durch den Backpropagation-Algorithmus trainiert wird.\n",
    "\n",
    "Ein mehrschichtiges Perzeptron (MLP) ist ein Klassifikationsalgorithmus, der in der Lage ist, nicht-lineare Modelle zu lernen. Es besteht aus mindestens drei Schichten von Knoten: einer Eingabeschicht, einer oder mehreren \"verborgenen\" Schichten und einer Ausgabeschicht. Jede Schicht besteht aus Neuronen, wobei die Neuronen in einer Schicht mit denen in der nächsten Schicht verbunden sind.\n",
    "\n",
    "### Die Parameter des MLPClassifier\n",
    "Die MLPClassifier-Klasse in sklearn hat viele Parameter. Einige der wichtigsten:\n",
    "\n",
    "- `hidden_layer_sizes`: Eine Liste, die die Anzahl der Neuronen in den verborgenen Schichten angibt.\n",
    "- `activation`: Die Aktivierungsfunktion für die Neuronen. Dies kann 'logistic' (Sigmoid), 'tanh', 'relu' oder 'identity' sein.\n",
    "- `solver`: Der Optimierer, der verwendet wird, um die Gewichte anzupassen. Dies kann 'lbfgs', 'sgd' (stochastischer Gradientenabstieg) oder 'adam' sein.\n",
    "- `alpha`: Ein Regularisierungsparameter, der Overfitting verhindert.\n",
    "- `learning_rate_init`: Die anfängliche Lernrate für die Gewichtsanpassungen.\n",
    "\n",
    "Es ist eine der Aufgaben beim Deep Learning, die besten Parameter durch Experimentieren (und Erfahrung?) zu bestimmen."
   ]
  },
  {
   "cell_type": "code",
   "execution_count": 4,
   "id": "ddcc5c33-b2dd-43f6-894a-8de774231818",
   "metadata": {},
   "outputs": [
    {
     "data": {
      "text/html": [
       "<style>#sk-container-id-1 {color: black;}#sk-container-id-1 pre{padding: 0;}#sk-container-id-1 div.sk-toggleable {background-color: white;}#sk-container-id-1 label.sk-toggleable__label {cursor: pointer;display: block;width: 100%;margin-bottom: 0;padding: 0.3em;box-sizing: border-box;text-align: center;}#sk-container-id-1 label.sk-toggleable__label-arrow:before {content: \"▸\";float: left;margin-right: 0.25em;color: #696969;}#sk-container-id-1 label.sk-toggleable__label-arrow:hover:before {color: black;}#sk-container-id-1 div.sk-estimator:hover label.sk-toggleable__label-arrow:before {color: black;}#sk-container-id-1 div.sk-toggleable__content {max-height: 0;max-width: 0;overflow: hidden;text-align: left;background-color: #f0f8ff;}#sk-container-id-1 div.sk-toggleable__content pre {margin: 0.2em;color: black;border-radius: 0.25em;background-color: #f0f8ff;}#sk-container-id-1 input.sk-toggleable__control:checked~div.sk-toggleable__content {max-height: 200px;max-width: 100%;overflow: auto;}#sk-container-id-1 input.sk-toggleable__control:checked~label.sk-toggleable__label-arrow:before {content: \"▾\";}#sk-container-id-1 div.sk-estimator input.sk-toggleable__control:checked~label.sk-toggleable__label {background-color: #d4ebff;}#sk-container-id-1 div.sk-label input.sk-toggleable__control:checked~label.sk-toggleable__label {background-color: #d4ebff;}#sk-container-id-1 input.sk-hidden--visually {border: 0;clip: rect(1px 1px 1px 1px);clip: rect(1px, 1px, 1px, 1px);height: 1px;margin: -1px;overflow: hidden;padding: 0;position: absolute;width: 1px;}#sk-container-id-1 div.sk-estimator {font-family: monospace;background-color: #f0f8ff;border: 1px dotted black;border-radius: 0.25em;box-sizing: border-box;margin-bottom: 0.5em;}#sk-container-id-1 div.sk-estimator:hover {background-color: #d4ebff;}#sk-container-id-1 div.sk-parallel-item::after {content: \"\";width: 100%;border-bottom: 1px solid gray;flex-grow: 1;}#sk-container-id-1 div.sk-label:hover label.sk-toggleable__label {background-color: #d4ebff;}#sk-container-id-1 div.sk-serial::before {content: \"\";position: absolute;border-left: 1px solid gray;box-sizing: border-box;top: 0;bottom: 0;left: 50%;z-index: 0;}#sk-container-id-1 div.sk-serial {display: flex;flex-direction: column;align-items: center;background-color: white;padding-right: 0.2em;padding-left: 0.2em;position: relative;}#sk-container-id-1 div.sk-item {position: relative;z-index: 1;}#sk-container-id-1 div.sk-parallel {display: flex;align-items: stretch;justify-content: center;background-color: white;position: relative;}#sk-container-id-1 div.sk-item::before, #sk-container-id-1 div.sk-parallel-item::before {content: \"\";position: absolute;border-left: 1px solid gray;box-sizing: border-box;top: 0;bottom: 0;left: 50%;z-index: -1;}#sk-container-id-1 div.sk-parallel-item {display: flex;flex-direction: column;z-index: 1;position: relative;background-color: white;}#sk-container-id-1 div.sk-parallel-item:first-child::after {align-self: flex-end;width: 50%;}#sk-container-id-1 div.sk-parallel-item:last-child::after {align-self: flex-start;width: 50%;}#sk-container-id-1 div.sk-parallel-item:only-child::after {width: 0;}#sk-container-id-1 div.sk-dashed-wrapped {border: 1px dashed gray;margin: 0 0.4em 0.5em 0.4em;box-sizing: border-box;padding-bottom: 0.4em;background-color: white;}#sk-container-id-1 div.sk-label label {font-family: monospace;font-weight: bold;display: inline-block;line-height: 1.2em;}#sk-container-id-1 div.sk-label-container {text-align: center;}#sk-container-id-1 div.sk-container {/* jupyter's `normalize.less` sets `[hidden] { display: none; }` but bootstrap.min.css set `[hidden] { display: none !important; }` so we also need the `!important` here to be able to override the default hidden behavior on the sphinx rendered scikit-learn.org. See: https://github.com/scikit-learn/scikit-learn/issues/21755 */display: inline-block !important;position: relative;}#sk-container-id-1 div.sk-text-repr-fallback {display: none;}</style><div id=\"sk-container-id-1\" class=\"sk-top-container\"><div class=\"sk-text-repr-fallback\"><pre>MLPClassifier(hidden_layer_sizes=64, max_iter=1000)</pre><b>In a Jupyter environment, please rerun this cell to show the HTML representation or trust the notebook. <br />On GitHub, the HTML representation is unable to render, please try loading this page with nbviewer.org.</b></div><div class=\"sk-container\" hidden><div class=\"sk-item\"><div class=\"sk-estimator sk-toggleable\"><input class=\"sk-toggleable__control sk-hidden--visually\" id=\"sk-estimator-id-1\" type=\"checkbox\" checked><label for=\"sk-estimator-id-1\" class=\"sk-toggleable__label sk-toggleable__label-arrow\">MLPClassifier</label><div class=\"sk-toggleable__content\"><pre>MLPClassifier(hidden_layer_sizes=64, max_iter=1000)</pre></div></div></div></div></div>"
      ],
      "text/plain": [
       "MLPClassifier(hidden_layer_sizes=64, max_iter=1000)"
      ]
     },
     "execution_count": 4,
     "metadata": {},
     "output_type": "execute_result"
    }
   ],
   "source": [
    "from sklearn.neural_network import MLPClassifier\n",
    "mlpc = MLPClassifier(hidden_layer_sizes = 64, max_iter=1000)\n",
    "\n",
    "mlpc.fit(X_train, y_train)"
   ]
  },
  {
   "cell_type": "markdown",
   "id": "156f6fc5-faec-4377-9ccf-1425c0813157",
   "metadata": {},
   "source": [
    "## Wie gut arbeitet der Klassifizierer?\n",
    "\n",
    "Die genauigkeit überprüfen wikr mit den Testdaten:"
   ]
  },
  {
   "cell_type": "code",
   "execution_count": 5,
   "id": "bfb5d80a-ae15-4ca1-b589-2d29352fbd5b",
   "metadata": {},
   "outputs": [
    {
     "name": "stdout",
     "output_type": "stream",
     "text": [
      "Genauigkeit: 91.9%\n"
     ]
    }
   ],
   "source": [
    "score = mlpc.score(X_test, y_test)\n",
    "print(f'Genauigkeit: {score:.1%}')"
   ]
  },
  {
   "cell_type": "code",
   "execution_count": null,
   "id": "9372cf92-176e-45ae-a52d-54a68564fcd1",
   "metadata": {},
   "outputs": [],
   "source": []
  }
 ],
 "metadata": {
  "kernelspec": {
   "display_name": "Python 3 (ipykernel)",
   "language": "python",
   "name": "python3"
  },
  "language_info": {
   "codemirror_mode": {
    "name": "ipython",
    "version": 3
   },
   "file_extension": ".py",
   "mimetype": "text/x-python",
   "name": "python",
   "nbconvert_exporter": "python",
   "pygments_lexer": "ipython3",
   "version": "3.10.13"
  }
 },
 "nbformat": 4,
 "nbformat_minor": 5
}
