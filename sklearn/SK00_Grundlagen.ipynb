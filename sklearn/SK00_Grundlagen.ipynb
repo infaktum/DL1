{
 "cells": [
  {
   "cell_type": "markdown",
   "id": "42472f5c-a4bf-4217-89ae-13dbb0504c04",
   "metadata": {},
   "source": [
    "  # SK00 - Scikit-Learn Grundlagen"
   ]
  },
  {
   "cell_type": "code",
   "execution_count": 1,
   "id": "63ed9d95-d631-44d9-bcb4-c7c10942fe92",
   "metadata": {
    "ExecuteTime": {
     "end_time": "2024-03-08T10:43:23.679567Z",
     "start_time": "2024-03-08T10:43:23.673568Z"
    }
   },
   "outputs": [],
   "source": [
    "import numpy as np\n",
    "import matplotlib.pyplot as plt"
   ]
  },
  {
   "cell_type": "markdown",
   "id": "998b6d43-8c63-42ae-b263-f6a3a34e5b88",
   "metadata": {},
   "source": [
    "## Sample-Matrix und Target-Values"
   ]
  },
  {
   "cell_type": "markdown",
   "id": "b1445e30-01fd-44dc-a6ac-22802121ca48",
   "metadata": {},
   "source": [
    "`scikit-learn` kommt mit zahlreichen Methoden zur Erstellung von Testdaten.\n",
    "\n",
    "sklearn teilt Daten wie folgt ein:\n",
    "\n",
    "* Die _Sample-Matrix_ __X__, bestehend aus N Samples mit jeweils M Features: X = (samples, features)\n",
    "* Die _Target-Values_ __y__, bestehend aus reellen Größen für regressionen und ganzzahligen Größen für Klassifizierungen.\n",
    "\n",
    "Diese Daten sind meist Numpy-Arrays."
   ]
  },
  {
   "cell_type": "code",
   "execution_count": 2,
   "id": "7e481160-ad44-4ff3-81c5-f69728617a7f",
   "metadata": {
    "ExecuteTime": {
     "end_time": "2024-03-08T10:43:23.902567Z",
     "start_time": "2024-03-08T10:43:23.752566Z"
    }
   },
   "outputs": [],
   "source": [
    "import sklearn.datasets as ds"
   ]
  },
  {
   "cell_type": "code",
   "execution_count": 3,
   "id": "daa6a739-9280-4bae-88f8-03b35fa81ccd",
   "metadata": {},
   "outputs": [
    {
     "name": "stdout",
     "output_type": "stream",
     "text": [
      "C:\\Users\\Admin\\Documents\\Projects\\python\\ki\\scikit_learn_data\n"
     ]
    }
   ],
   "source": [
    "print(ds.get_data_home())"
   ]
  },
  {
   "cell_type": "markdown",
   "id": "07508958-1624-40cd-8eaa-aeb3ae0cfd01",
   "metadata": {},
   "source": [
    "### Beispiele"
   ]
  },
  {
   "cell_type": "markdown",
   "id": "8a0b661b-55a7-4c6f-b500-9e51b6aac1f1",
   "metadata": {},
   "source": [
    "#### Regressions-Daten"
   ]
  },
  {
   "cell_type": "code",
   "execution_count": 4,
   "id": "f14d6b16-8810-48f5-a298-5ff9e5b8614b",
   "metadata": {
    "ExecuteTime": {
     "end_time": "2024-03-08T10:43:24.107570Z",
     "start_time": "2024-03-08T10:43:23.905570Z"
    }
   },
   "outputs": [
    {
     "data": {
      "image/png": "[encoded data removed]",
      "text/plain": [
       "<Figure size 640x480 with 1 Axes>"
      ]
     },
     "metadata": {},
     "output_type": "display_data"
    }
   ],
   "source": [
    "X, y = ds.make_regression(n_samples=100, n_features=1, noise=5)\n",
    "plt.scatter(X,y)\n",
    "\n",
    "plt.plot();"
   ]
  },
  {
   "cell_type": "markdown",
   "id": "b4595b12-ff85-4599-a768-fac9a73548d3",
   "metadata": {},
   "source": [
    "## Pre-Processing"
   ]
  },
  {
   "cell_type": "markdown",
   "id": "63358e64-fe4e-450c-852e-80a4e8d892f3",
   "metadata": {},
   "source": [
    "### Beispiele"
   ]
  },
  {
   "cell_type": "markdown",
   "id": "2855ac55-71d2-423f-bf48-f01d2e18c62a",
   "metadata": {},
   "source": [
    "#### Standard-Scaler\n",
    "\n",
    "Der Standard-Scaler skaliert die übergebenen Daten auf die __Normalverteilung__ mit Mittelwert 0 und Standardabweichung 1"
   ]
  },
  {
   "cell_type": "code",
   "execution_count": 5,
   "id": "6e5bb392-a832-4131-8e20-ff325bc3d53b",
   "metadata": {
    "ExecuteTime": {
     "end_time": "2024-03-08T10:43:24.123567Z",
     "start_time": "2024-03-08T10:43:24.109569Z"
    }
   },
   "outputs": [
    {
     "data": {
      "text/plain": [
       "array([[-1., -1.],\n",
       "       [ 1.,  1.]])"
      ]
     },
     "execution_count": 5,
     "metadata": {},
     "output_type": "execute_result"
    }
   ],
   "source": [
    "from sklearn.preprocessing import StandardScaler\n",
    "\n",
    "X, y = ds.make_regression(n_samples=2, n_features=2, noise=5, random_state=42)\n",
    "\n",
    "StandardScaler().fit(X).transform(X)"
   ]
  },
  {
   "cell_type": "markdown",
   "id": "1584f7a3-12ee-48fe-b052-42ccd31fdf2e",
   "metadata": {},
   "source": [
    "## Pipelines"
   ]
  },
  {
   "cell_type": "code",
   "execution_count": 6,
   "id": "9fbf806a-2ae3-425c-b0c2-c3094b04b113",
   "metadata": {
    "ExecuteTime": {
     "end_time": "2024-03-08T10:43:24.138566Z",
     "start_time": "2024-03-08T10:43:24.127570Z"
    }
   },
   "outputs": [],
   "source": [
    "from sklearn.pipeline import make_pipeline\n",
    "from sklearn.datasets import load_iris\n",
    "from sklearn.model_selection import train_test_split\n",
    "from sklearn.linear_model import LogisticRegression\n",
    "from sklearn.metrics import accuracy_score"
   ]
  },
  {
   "cell_type": "markdown",
   "id": "7c31d734-3746-4855-af94-7b13eff4938c",
   "metadata": {},
   "source": [
    "### Beispiele"
   ]
  },
  {
   "cell_type": "code",
   "execution_count": 7,
   "id": "85912735-bfd3-4a83-b4d9-c9be2ba11ded",
   "metadata": {
    "ExecuteTime": {
     "end_time": "2024-03-08T10:43:24.169567Z",
     "start_time": "2024-03-08T10:43:24.140570Z"
    }
   },
   "outputs": [
    {
     "data": {
      "text/html": [
       "<style>#sk-container-id-1 {color: black;}#sk-container-id-1 pre{padding: 0;}#sk-container-id-1 div.sk-toggleable {background-color: white;}#sk-container-id-1 label.sk-toggleable__label {cursor: pointer;display: block;width: 100%;margin-bottom: 0;padding: 0.3em;box-sizing: border-box;text-align: center;}#sk-container-id-1 label.sk-toggleable__label-arrow:before {content: \"▸\";float: left;margin-right: 0.25em;color: #696969;}#sk-container-id-1 label.sk-toggleable__label-arrow:hover:before {color: black;}#sk-container-id-1 div.sk-estimator:hover label.sk-toggleable__label-arrow:before {color: black;}#sk-container-id-1 div.sk-toggleable__content {max-height: 0;max-width: 0;overflow: hidden;text-align: left;background-color: #f0f8ff;}#sk-container-id-1 div.sk-toggleable__content pre {margin: 0.2em;color: black;border-radius: 0.25em;background-color: #f0f8ff;}#sk-container-id-1 input.sk-toggleable__control:checked~div.sk-toggleable__content {max-height: 200px;max-width: 100%;overflow: auto;}#sk-container-id-1 input.sk-toggleable__control:checked~label.sk-toggleable__label-arrow:before {content: \"▾\";}#sk-container-id-1 div.sk-estimator input.sk-toggleable__control:checked~label.sk-toggleable__label {background-color: #d4ebff;}#sk-container-id-1 div.sk-label input.sk-toggleable__control:checked~label.sk-toggleable__label {background-color: #d4ebff;}#sk-container-id-1 input.sk-hidden--visually {border: 0;clip: rect(1px 1px 1px 1px);clip: rect(1px, 1px, 1px, 1px);height: 1px;margin: -1px;overflow: hidden;padding: 0;position: absolute;width: 1px;}#sk-container-id-1 div.sk-estimator {font-family: monospace;background-color: #f0f8ff;border: 1px dotted black;border-radius: 0.25em;box-sizing: border-box;margin-bottom: 0.5em;}#sk-container-id-1 div.sk-estimator:hover {background-color: #d4ebff;}#sk-container-id-1 div.sk-parallel-item::after {content: \"\";width: 100%;border-bottom: 1px solid gray;flex-grow: 1;}#sk-container-id-1 div.sk-label:hover label.sk-toggleable__label {background-color: #d4ebff;}#sk-container-id-1 div.sk-serial::before {content: \"\";position: absolute;border-left: 1px solid gray;box-sizing: border-box;top: 0;bottom: 0;left: 50%;z-index: 0;}#sk-container-id-1 div.sk-serial {display: flex;flex-direction: column;align-items: center;background-color: white;padding-right: 0.2em;padding-left: 0.2em;position: relative;}#sk-container-id-1 div.sk-item {position: relative;z-index: 1;}#sk-container-id-1 div.sk-parallel {display: flex;align-items: stretch;justify-content: center;background-color: white;position: relative;}#sk-container-id-1 div.sk-item::before, #sk-container-id-1 div.sk-parallel-item::before {content: \"\";position: absolute;border-left: 1px solid gray;box-sizing: border-box;top: 0;bottom: 0;left: 50%;z-index: -1;}#sk-container-id-1 div.sk-parallel-item {display: flex;flex-direction: column;z-index: 1;position: relative;background-color: white;}#sk-container-id-1 div.sk-parallel-item:first-child::after {align-self: flex-end;width: 50%;}#sk-container-id-1 div.sk-parallel-item:last-child::after {align-self: flex-start;width: 50%;}#sk-container-id-1 div.sk-parallel-item:only-child::after {width: 0;}#sk-container-id-1 div.sk-dashed-wrapped {border: 1px dashed gray;margin: 0 0.4em 0.5em 0.4em;box-sizing: border-box;padding-bottom: 0.4em;background-color: white;}#sk-container-id-1 div.sk-label label {font-family: monospace;font-weight: bold;display: inline-block;line-height: 1.2em;}#sk-container-id-1 div.sk-label-container {text-align: center;}#sk-container-id-1 div.sk-container {/* jupyter's `normalize.less` sets `[hidden] { display: none; }` but bootstrap.min.css set `[hidden] { display: none !important; }` so we also need the `!important` here to be able to override the default hidden behavior on the sphinx rendered scikit-learn.org. See: https://github.com/scikit-learn/scikit-learn/issues/21755 */display: inline-block !important;position: relative;}#sk-container-id-1 div.sk-text-repr-fallback {display: none;}</style><div id=\"sk-container-id-1\" class=\"sk-top-container\"><div class=\"sk-text-repr-fallback\"><pre>Pipeline(steps=[(&#x27;standardscaler&#x27;, StandardScaler()),\n",
       "                (&#x27;logisticregression&#x27;, LogisticRegression())])</pre><b>In a Jupyter environment, please rerun this cell to show the HTML representation or trust the notebook. <br />On GitHub, the HTML representation is unable to render, please try loading this page with nbviewer.org.</b></div><div class=\"sk-container\" hidden><div class=\"sk-item sk-dashed-wrapped\"><div class=\"sk-label-container\"><div class=\"sk-label sk-toggleable\"><input class=\"sk-toggleable__control sk-hidden--visually\" id=\"sk-estimator-id-1\" type=\"checkbox\" ><label for=\"sk-estimator-id-1\" class=\"sk-toggleable__label sk-toggleable__label-arrow\">Pipeline</label><div class=\"sk-toggleable__content\"><pre>Pipeline(steps=[(&#x27;standardscaler&#x27;, StandardScaler()),\n",
       "                (&#x27;logisticregression&#x27;, LogisticRegression())])</pre></div></div></div><div class=\"sk-serial\"><div class=\"sk-item\"><div class=\"sk-estimator sk-toggleable\"><input class=\"sk-toggleable__control sk-hidden--visually\" id=\"sk-estimator-id-2\" type=\"checkbox\" ><label for=\"sk-estimator-id-2\" class=\"sk-toggleable__label sk-toggleable__label-arrow\">StandardScaler</label><div class=\"sk-toggleable__content\"><pre>StandardScaler()</pre></div></div></div><div class=\"sk-item\"><div class=\"sk-estimator sk-toggleable\"><input class=\"sk-toggleable__control sk-hidden--visually\" id=\"sk-estimator-id-3\" type=\"checkbox\" ><label for=\"sk-estimator-id-3\" class=\"sk-toggleable__label sk-toggleable__label-arrow\">LogisticRegression</label><div class=\"sk-toggleable__content\"><pre>LogisticRegression()</pre></div></div></div></div></div></div></div>"
      ],
      "text/plain": [
       "Pipeline(steps=[('standardscaler', StandardScaler()),\n",
       "                ('logisticregression', LogisticRegression())])"
      ]
     },
     "execution_count": 7,
     "metadata": {},
     "output_type": "execute_result"
    }
   ],
   "source": [
    "pipe = make_pipeline(StandardScaler(),LogisticRegression())\n",
    "X, y = load_iris(return_X_y=True)\n",
    "X_train, X_test, y_train, y_test = train_test_split(X, y, random_state=0)\n",
    "pipe.fit(X_train, y_train)"
   ]
  },
  {
   "cell_type": "code",
   "execution_count": 8,
   "id": "6e48eac0-4d95-4c20-afdf-0fcb304aa6b5",
   "metadata": {
    "ExecuteTime": {
     "end_time": "2024-03-08T10:43:24.184564Z",
     "start_time": "2024-03-08T10:43:24.171567Z"
    }
   },
   "outputs": [
    {
     "data": {
      "text/plain": [
       "0.9736842105263158"
      ]
     },
     "execution_count": 8,
     "metadata": {},
     "output_type": "execute_result"
    }
   ],
   "source": [
    "accuracy_score(pipe.predict(X_test), y_test)"
   ]
  },
  {
   "cell_type": "markdown",
   "id": "c1b46d8a-5b96-4b49-b01f-b590375adc2a",
   "metadata": {},
   "source": [
    "## Bewertung von Modellen"
   ]
  },
  {
   "cell_type": "markdown",
   "id": "c39a94dc-b976-4329-a966-78039c74b6b1",
   "metadata": {},
   "source": [
    "### Beispiele"
   ]
  },
  {
   "cell_type": "markdown",
   "id": "f930720d-bb52-405a-bea1-8480484dc5ba",
   "metadata": {},
   "source": [
    "#### Lineare Regression"
   ]
  },
  {
   "cell_type": "code",
   "execution_count": 9,
   "id": "84a9c67a-97df-4b88-879f-0a5ef4e09cf3",
   "metadata": {
    "ExecuteTime": {
     "end_time": "2024-03-08T10:43:24.372567Z",
     "start_time": "2024-03-08T10:43:24.185567Z"
    }
   },
   "outputs": [
    {
     "data": {
      "image/png": "[encoded data removed]",
      "text/plain": [
       "<Figure size 640x480 with 1 Axes>"
      ]
     },
     "metadata": {},
     "output_type": "display_data"
    },
    {
     "name": "stdout",
     "output_type": "stream",
     "text": [
      "[0.94126592 0.87063933 0.83065739 0.85488337 0.65491649]\n"
     ]
    }
   ],
   "source": [
    "from sklearn.datasets import make_regression\n",
    "from sklearn.linear_model import LinearRegression\n",
    "from sklearn.model_selection import cross_validate\n",
    "\n",
    "X, y = make_regression(n_samples=100, n_features=1, noise=10)\n",
    "\n",
    "lr = LinearRegression()\n",
    "lr.fit(X,y)\n",
    "result = cross_validate(lr, X, y) \n",
    "plt.scatter(X,y)\n",
    "plt.plot(X,lr.predict(X))\n",
    "plt.show()\n",
    "print(result['test_score'])"
   ]
  },
  {
   "cell_type": "code",
   "execution_count": null,
   "id": "03b49338-0f47-4fc5-b9fc-4cd6a8981621",
   "metadata": {},
   "outputs": [],
   "source": []
  }
 ],
 "metadata": {
  "kernelspec": {
   "display_name": "Python 3 (ipykernel)",
   "language": "python",
   "name": "python3"
  },
  "language_info": {
   "codemirror_mode": {
    "name": "ipython",
    "version": 3
   },
   "file_extension": ".py",
   "mimetype": "text/x-python",
   "name": "python",
   "nbconvert_exporter": "python",
   "pygments_lexer": "ipython3",
   "version": "3.10.13"
  }
 },
 "nbformat": 4,
 "nbformat_minor": 5
}
