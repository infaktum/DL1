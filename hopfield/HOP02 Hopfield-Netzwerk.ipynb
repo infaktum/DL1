{
 "cells": [
  {
   "cell_type": "markdown",
   "id": "5cbcb0c9-189c-4ffa-8116-38884db2b15c",
   "metadata": {},
   "source": [
    "# HOP02 - Hopfield-Netzwerke"
   ]
  },
  {
   "cell_type": "markdown",
   "id": "a41ed8b8-90b2-44da-a086-f5b73b3c762d",
   "metadata": {},
   "source": [
    "Das Hopfield-Netzwerk ist ein _rekurrentes neuronales Netzwerk_, das in der künstlichen Intelligenz vor allem für das _Assoziative Gedächtnis_ verwendet wird. Es wurde 1982 von __John Hopfield__ entwickelt und ist ein Modell, das auf der Funktionsweise biologischer Nervensysteme basiert. Der Hauptzweck eines Hopfield-Netzwerks besteht darin, gespeicherte Muster oder Erinnerungen aus unvollständigen oder verrauschten Informationen zu rekonstruieren. Dabei handelt es sich um eine Form des _inhaltadressierbaren Speichers_, bei dem Informationen durch ihren Inhalt und nicht durch eine Speicheradresse abgerufen werden."
   ]
  },
  {
   "cell_type": "markdown",
   "id": "45385aa7-0578-429a-bbab-5805b99b8a0a",
   "metadata": {},
   "source": [
    "## Entwicklung eines einfachen Hopfield-Netzwerks"
   ]
  },
  {
   "cell_type": "markdown",
   "id": "76332889-4fd6-4858-a5df-b59a20b5ab1d",
   "metadata": {},
   "source": [
    "Wir wollen die Arbeitsweise an einem konketen Beispiel demonstrieren, in dem ein Hopfiel-Netz bauen, das eine Anzahl von Bildmustern speichert und diese bei Eingabe von verrauschten Daten wieder rekonstruiert."
   ]
  },
  {
   "cell_type": "markdown",
   "id": "af3290cf-9b4e-4758-a3e8-990156d09b60",
   "metadata": {},
   "source": [
    "#### Beispiel-Muster (Grafiken)\n",
    "\n",
    "Als Beispiele verwenden wir einfache zweidimensional Bitmuster:"
   ]
  },
  {
   "cell_type": "code",
   "execution_count": 1,
   "id": "aa304aa0-e6ab-457f-a0b6-647bead3a3ca",
   "metadata": {},
   "outputs": [],
   "source": [
    "import numpy as np\n",
    "import matplotlib.pyplot as plt\n",
    "import patterns\n",
    "from patterns import display_grid, display_grid, plot_patterns\n",
    "\n",
    "np.set_printoptions(precision=2)\n"
   ]
  },
  {
   "cell_type": "code",
   "execution_count": 2,
   "id": "1bbcd8f2-5c98-4fda-93a8-d38e2f32ed05",
   "metadata": {},
   "outputs": [
    {
     "data": {
      "image/png": "[encoded data removed]",
      "text/plain": [
       "<Figure size 200x100 with 3 Axes>"
      ]
     },
     "metadata": {},
     "output_type": "display_data"
    },
    {
     "data": {
      "image/png": "[encoded data removed]",
      "text/plain": [
       "<Figure size 200x100 with 5 Axes>"
      ]
     },
     "metadata": {},
     "output_type": "display_data"
    }
   ],
   "source": [
    "numbers = patterns.numbers\n",
    "simple = patterns.simple\n",
    "smileys = patterns.smileys\n",
    "\n",
    "plot_patterns(simple,\"\")\n",
    "plot_patterns(numbers,\"\")\n"
   ]
  },
  {
   "cell_type": "markdown",
   "id": "b314a019-bdb9-4a58-ad82-bec1db5c9625",
   "metadata": {},
   "source": [
    "### Aufbau\n",
    "\n",
    "Im ersten Schritt erzeugen wir die Struktur des Hopfield-Netzwerks. Das ist recht einfach: Ein Hopfield-Netzwerk besteht aus einer Anzahl $N$ von Neuronen  $x_k$. $N$ ist die Anzahl der \"Pixel\" in unserem Muster. Jedes Neuron ist mit jedem anderen verbunden ist. Jede Verbindung ist dabei gewichtet, d.h. wir haben eine Menge von Gewichten $w_{ik}$ für die Verbindung vom Neuron $x_i$ zum Neuron $x_k$. \n",
    "\n",
    "Wir brauchen also nur eine quadratische Matrix von Gewichten zu erzeugen, die wir z.B. mit Nullen initialisieren:"
   ]
  },
  {
   "cell_type": "code",
   "execution_count": 3,
   "id": "37d479e4-ca27-4e73-a555-98d1db29ee3b",
   "metadata": {},
   "outputs": [],
   "source": [
    "def init(N):\n",
    "    return np.zeros((N,N))"
   ]
  },
  {
   "cell_type": "markdown",
   "id": "de4ac689-fb2d-44d2-bbe9-a1cf016c541f",
   "metadata": {},
   "source": [
    "Dadurch ist zwar jedes Neuron auch mit sich selbst verbunden, aber wir werden die entspechenden Gewicht $x_{kk}$ einfach auf 0 setzen.\n",
    "\n",
    "Wir arbeiten mit zweidimensionalen Mustern; die Anzahl der Neuronen ist daher gleich der Breite mal der Höhe der Bilder. "
   ]
  },
  {
   "cell_type": "code",
   "execution_count": 4,
   "id": "dfaf5314-8a8c-4223-8458-0f40bb1d3377",
   "metadata": {},
   "outputs": [],
   "source": [
    "beispiel = simple\n",
    "shape = beispiel[0].shape\n",
    "\n",
    "W = init(np.prod(shape))"
   ]
  },
  {
   "cell_type": "markdown",
   "id": "a6db3233-a308-4112-9416-ce2730ac8fb1",
   "metadata": {},
   "source": [
    "#### Lernphase\n",
    "\n",
    "Das Netzwerk lernt, indem es die Gewichte zwischen den Neuronen so anpasst, dass gespeicherte Muster stabile Zustände darstellen. Die Gewichtsmatrix $W$ wird normalerweise durch eine __Hebbsche Lernregel__ bestimmt, die wie folgt lautet:\n",
    "\n",
    "$$ w_{ij} = \\frac{1}{N} \\sum_{p=1}^N x_i^p x_j^p $$\n",
    "\n",
    "wobei:\n",
    "- $N$ die Anzahl der Neuronen\n",
    "- $p$ die Anzahl der zu speichernden Muster\n",
    "- $x_i^N$ der Wert des $i$-ten Neurons im $p$-ten Muster\n",
    "\n",
    "Die Kombination $x_i x_j$ bildet das __äußere Produkt__ (auch __Tensorprodukt__ genannt) des Vektors $x_k$ mit sich selbst. Während bei dem _inneren Produkt_ $x_k y_k$ zweier vektoren ein Skalar entsteht, erhält man beim Tensorpdoukt zweier Vektoren eine Matrix. Das tensorprodukt wir mit dem Symbol $\\otimes$ bezeichnet; wir können also kurz $W = \\frac{1}{N} \\sum_p x^p \\otimes x^p$ schreiben\n",
    "\n",
    "Dabei gilt für die Gewichte:\n",
    "\n",
    "- $W$ ist symmetrisch: $ w_{ik} = w_{ki} $\n",
    "- Die Diagonale von $W$ ist 0, d.h. $ w_{kk} = 0 $ (gefordert)\n",
    "\n",
    "Diese Trainings-Funktion ist schnell implementiert. Dabei machen wir aus den Bitmaps einfache Arrays mit Hilfe der Funktion _flatten_:"
   ]
  },
  {
   "cell_type": "code",
   "execution_count": 5,
   "id": "b54a3130-1707-4c43-bee8-7ab8d9645f26",
   "metadata": {},
   "outputs": [],
   "source": [
    "def train(weights, patterns):\n",
    "    for pattern in patterns:\n",
    "        flat_pattern = pattern.flatten()\n",
    "        weights += np.outer(flat_pattern, flat_pattern)\n",
    "    np.fill_diagonal(weights, 0) # Diagonale = 0\n",
    "    weights /= len(patterns) # Normierung\n",
    "    return weights"
   ]
  },
  {
   "cell_type": "code",
   "execution_count": 6,
   "id": "89f00ca2-466a-45e7-95c0-262bc1e51cd1",
   "metadata": {},
   "outputs": [],
   "source": [
    "W = train(W,beispiel)"
   ]
  },
  {
   "cell_type": "markdown",
   "id": "50ed29e6-f294-42bb-b2c4-fafebee403af",
   "metadata": {},
   "source": [
    "### Erinnern\n",
    " Nachdem wir unser \"Gedächtnis\" trainiert haben, rufen wir nun die \"Erinnerungen\" ab:"
   ]
  },
  {
   "cell_type": "code",
   "execution_count": 7,
   "id": "38c9c884-6686-4dc0-83ee-9285a14fc184",
   "metadata": {},
   "outputs": [],
   "source": [
    "def recall(weights, pattern, steps=5):\n",
    "    flat_pattern = pattern.flatten()\n",
    "    for _ in range(steps):\n",
    "        flat_pattern = np.sign(np.dot(weights, flat_pattern))\n",
    "    return flat_pattern"
   ]
  },
  {
   "cell_type": "code",
   "execution_count": 8,
   "id": "b48905fe-ceec-4943-8b54-48d440f81de4",
   "metadata": {},
   "outputs": [
    {
     "data": {
      "image/png": "[encoded data removed]",
      "text/plain": [
       "<Figure size 500x500 with 3 Axes>"
      ]
     },
     "metadata": {},
     "output_type": "display_data"
    },
    {
     "data": {
      "image/png": "[encoded data removed]",
      "text/plain": [
       "<Figure size 500x500 with 3 Axes>"
      ]
     },
     "metadata": {},
     "output_type": "display_data"
    },
    {
     "data": {
      "image/png": "[encoded data removed]",
      "text/plain": [
       "<Figure size 500x500 with 3 Axes>"
      ]
     },
     "metadata": {},
     "output_type": "display_data"
    }
   ],
   "source": [
    "W = train(W,beispiel)\n",
    "\n",
    "for b in beispiel:\n",
    "    bn = patterns.add_noise(b,0.2)\n",
    "    result = recall(W,bn).reshape(shape)\n",
    "    display_grid([b,bn,result],1,3, cm=\"winter\")"
   ]
  },
  {
   "cell_type": "code",
   "execution_count": null,
   "id": "454ce9e0-d6a3-4a3e-81cc-051432dda73b",
   "metadata": {},
   "outputs": [],
   "source": []
  }
 ],
 "metadata": {
  "kernelspec": {
   "display_name": "Python 3 (ipykernel)",
   "language": "python",
   "name": "python3"
  },
  "language_info": {
   "codemirror_mode": {
    "name": "ipython",
    "version": 3
   },
   "file_extension": ".py",
   "mimetype": "text/x-python",
   "name": "python",
   "nbconvert_exporter": "python",
   "pygments_lexer": "ipython3",
   "version": "3.10.13"
  }
 },
 "nbformat": 4,
 "nbformat_minor": 5
}
