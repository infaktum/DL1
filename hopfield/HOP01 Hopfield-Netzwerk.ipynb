{
 "cells": [
  {
   "cell_type": "markdown",
   "id": "5cbcb0c9-189c-4ffa-8116-38884db2b15c",
   "metadata": {},
   "source": [
    "# HOP01 - Hopfield-Netzwerke"
   ]
  },
  {
   "cell_type": "markdown",
   "id": "80adae78-bbab-46eb-9e25-fcd7e2676df0",
   "metadata": {},
   "source": [
    "## Assoziatives Gedächtnis\n",
    "\n",
    "In der Künstlichen Intelligenz (KI) bezieht sich das __assoziative Gedächtnis__ auf die Fähigkeit eines KI-Systems, Informationen oder Muster miteinander zu verknüpfen und anhand dieser Verknüpfungen Entscheidungen zu treffen oder Vorhersagen zu machen. Dieses Konzept wird oft in Zusammenhang mit __Assoziativspeichern__ oder assoziativen Netzen diskutiert, die Informationen nicht linear speichern, sondern durch Beziehungen und Ähnlichkeiten zwischen Datenpunkten lernen.\n",
    "\n",
    "Ein assoziatives Gedächtnis in der KI funktioniert, indem es zwei oder mehr Datensätze miteinander verknüpft. Wenn ein Teil der Information später wieder abgerufen wird, kann die KI die gesamte gespeicherte Information anhand dieser Verknüpfung rekonstruieren oder eine passende Reaktion generieren. Dies ist besonders nützlich in Anwendungen wie:\n",
    "\n",
    "- __Mustererkennung__: Das System erkennt bestimmte Muster und assoziiert diese mit spezifischen Ergebnissen, wie bei der Bild- oder Spracherkennung.\n",
    "- __Empfehlungssysteme__: Ähnliche Produkte oder Inhalte werden basierend auf Nutzerverhalten oder Vorlieben assoziiert und vorgeschlagen.\n",
    "- __Gedächtnisrekonstruktion__: Systeme können unvollständige Informationen verarbeiten und vervollständigen, indem sie relevante Verknüpfungen nutzen.\n",
    "Ein klassisches Beispiel ist das Hopfield-Netzwerk, ein Modell eines assoziativen Gedächtnisses in der KI. Es ist in der Lage, Muster auch dann wiederherzustellen, wenn nur ein Teil des Musters präsentiert wird.\n",
    "\n",
    "Das assoziative Gedächtnis in der KI imitiert also in gewisser Weise die Funktionsweise des menschlichen Gedächtnisses, indem es Verbindungen zwischen Daten herstellt, um effizienter zu lernen und zu reagieren.\n",
    "\n",
    "So sind wir Menschen (und andere Lebewesen) in der Lage, Gegenstände als solche zu erkennen und einzugruppieren, obwohl wir den gerade betrachtete Gegenstand noch nie gesehen haben. Auch wenn Gegenstände nur teilweise oder unklar zu erkennen sind, können wir sie oft identifizieren."
   ]
  },
  {
   "cell_type": "markdown",
   "id": "02534759-2b66-4de5-bc59-d8e43e88aadc",
   "metadata": {},
   "source": [
    "## John Hopfield\n",
    "\n",
    "Mit dieser Fähigkeit beschäftige sich in den 80er Jahren der amerikanische Wissenschaftler __John Hopfield__, der sowohl in der Physik als auch in der Molekularbiologie arbeitete. Er versuchte, die Wirkungsweise menschlicher Neuronen in vereinfachter Form in Computerprogrammen zu simulieren, in dem er vorgegebene Muster in einem neuronalen Netz durch einen Lernprozess speicherte. Nach Eingabe desselben oder eines ähnliche (etwa eine verrauschten oder fregmentierten) Musters sollte das zuvor gelernte Muster rekonstruiert, also erkannt werden.\n",
    "\n",
    "Für seine Arbeiten erhielt John Hopfield 2024 den _Nobelpreis für Physik_."
   ]
  },
  {
   "cell_type": "markdown",
   "id": "00e45028-0fe3-4ce4-8789-58de9dfd0a5c",
   "metadata": {},
   "source": [
    "## Programmierung eines Hopfield-Netzwerks"
   ]
  },
  {
   "cell_type": "markdown",
   "id": "e4bb867a-40c4-40aa-95ca-ef810193aaaa",
   "metadata": {},
   "source": [
    "Das grundlegende Prinzip eines __Hopfield-Netzes__ lässt sich sehr in wenigen Codezeilen implementieren. Vieles haben wir schon beim __Perzeptron__ kennengelernt. Formulieren wir zunächst das Problem:\n",
    "\n",
    "#### Beschreibung der Aufgabe\n",
    "\n",
    "Wir wollen ein Netzwerk programmieren, das in der Lage ist, vorgegeben Muster zu speichern und danach auch wieder zu erkennen, auch wenn die Eingabe fehlerhaft ist. Unter einem _Muster_ verstehen wir dabei eine Eingabe von $N$ binären Werten, die entweder $+1$ oder $-1$ sein können.\n",
    "\n",
    "Die Daten können dabei eine lineare Abfolge von Zeichen sein, oder ein Schwarzweißbild, oder jede beliebige Dimension annehmen. \n",
    "\n",
    "#### Das Netzwerk\n",
    "\n",
    "Wieder existiert für jedes Element einer Eingabe ein einzelnes binäres Neuron, das hier die Werte $\\pm 1$ annehmen kann. Eine besonderheit von Hopfield-Netzen besteht nun darin, dass die Eingabe-Neuronen auch die Ausgabe-Neuronen sind und keine weitere Schicht existiert. Wenn man an ein trainiertes Hopfield-Netz eine Eingabe an den Eingangs-Neuronen macht, so springen sie danach in den Ausgabezustand, der dann meist das zur Eingabe passende Muster ist.\n",
    "\n",
    "Möglich wird dies wieder dadurch, dass alle Neuronen $k_k$ untereinander miteinander verbunden sind, wobei jede Verbindung wieder gewichtet ist. Die Information (das _Gedächtnis_) steckt also in den Gewichten $w_{ij}$, die wieder in einer Lernphase angepasst werden, in dem die zu speichernden Muster an die Eingabe-Neuronen angelegt werden. \n",
    "\n"
   ]
  },
  {
   "cell_type": "markdown",
   "id": "4a3d4085-3c98-4cc7-b04d-eff81bc3988b",
   "metadata": {},
   "source": [
    "Ein Hopfield-Netzwerk besteht aus binären Neuronen, die entweder den Zustand -1 (aus) oder 1 (ein) haben. Alle Neuronen sind vollständig miteinander verbunden, das bedeutet, jedes Neuron ist mit jedem anderen Neuron durch eine gewichtete Verbindung verbunden. Das Netzwerk arbeitet auf der Basis von dynamischen Updates der Neuronen, um ein stabiles Zustandsmuster zu erreichen.\n",
    "\n",
    "#### Die Hauptkomponenten eines Hopfield-Netzwerks sind:\n",
    "\n",
    "1. __Neuronen__: Diese können den Zustand 1 oder -1 haben.\n",
    "1. __Gewichte__: Die Verbindungen zwischen den Neuronen werden durch symmetrische Gewichtungen $ W = w_{ij}$ dargestellt.\n",
    "1. __Energie__: Das Netzwerk minimiert eine _Energiefunktion_, um zu stabilen Zuständen zu gelangen. Diese Energie entspricht dem Niveau der Kohärenz oder Stabilität des Netzwerks. Das Ziel ist es, dass das Netzwerk in einem der minimalen Energiestatus endet, die den gespeicherten Mustern entsprechen.\n",
    "\n",
    "   "
   ]
  },
  {
   "cell_type": "markdown",
   "id": "c28ec8a7-8c12-45e1-bd2c-4df8290060f0",
   "metadata": {},
   "source": [
    "#### Lernphase\n",
    "\n",
    "Das Netzwerk lernt, indem es die Gewichte zwischen den Neuronen so anpasst, dass gespeicherte Muster stabile Zustände darstellen. Die Gewichtsmatrix $W$ wird normalerweise durch eine __Hebbsche Lernregel__ bestimmt, die wie folgt lautet:\n",
    "\n",
    "$$ w_{ij} = \\frac{1}{N} \\sum_{\\mu=1}^p \\xi_i^\\mu\\xi_j^\\mu $$\n",
    "\n",
    "Dabei sind:\n",
    "- $N$ die Anzahl der Neuronen\n",
    "- $p$ die Anzahl der zu speichernden Muster\n",
    "- $\\xi_u^\\mu$ der Wert des $i$-ten Neurons im $\\mu$-ten Muster\n",
    "\n",
    "#### Rekonstruktionsphase\n",
    "Wenn dem Netzwerk ein unvollständiges oder verrauschtes Muster präsentiert wird, beginnen die Neuronen, ihren Zustand zu aktualisieren. Die Zustandsänderung eines Neurons basiert auf dem gewichteten Input, den es von den anderen Neuronen erhält:\n",
    "\n",
    "$$  s_i(t+1) = \\text{sign}\\big(\\sum_j w_{ij}s_i(t)\\big) $$\n",
    "\n",
    "Das Netzwerk durchläuft diesen Prozess iterativ, bis es in einem stabilen Zustand landet, der einem der gespeicherten Muster entspricht.\n",
    "\n",
    "#### Energie-Minimierung\n",
    "\n",
    "Ein interessantes Merkmal des Hopfield-Netzwerks ist, dass es eine Energiefunktion hat, die bei jeder Zustandsänderung minimiert wird. Die Energie des Netzwerks wird durch folgende Formel beschrieben:\n",
    "\n",
    "$$  E = -\\frac{1}{2} \\sum_{i \\ne j} w_{ij}s_is_j $$ \n",
    "\n",
    "Das Netzwerk wird so lange seinen Zustand anpassen, bis es in einem Minimum dieser Energie landet, was einem gespeicherten Muster entspricht.\n",
    "\n",
    "### Vorteile und Anwendungen\n",
    "- __Assoziatives Gedächtnis__: Das Netzwerk kann gespeicherte Muster aus unvollständigen oder verrauschten Eingaben rekonstruieren.\n",
    "- __Robustheit gegen Rauschen__: Hopfield-Netzwerke sind widerstandsfähig gegenüber verrauschten Daten und können fehlende Informationen rekonstruieren.\n",
    "- __Optimierungsprobleme__: Sie können für die Lösung von Optimierungsproblemen (z. B. das Traveling Salesman Problem) eingesetzt werden.\n",
    "\n",
    "### Grenzen\n",
    "- __Speicherkapazität__: Die Anzahl der stabil speicherbaren Muster ist begrenzt. Ein Netzwerk mit $𝑁$ Neuronen kann etwa $0.15 N$ Muster zuverlässig speichern.\n",
    "- __Konvergenz__: Das Netzwerk kann in lokalen Minima hängen bleiben und möglicherweise nicht das richtige Muster rekonstruieren.\n",
    "- __Binäre Neuronen__: Traditionelle Hopfield-Netzwerke verwenden binäre Neuronen, was ihre Flexibilität einschränken kann.\n",
    "\n",
    "Zusammenfassend lässt sich sagen, dass das Hopfield-Netzwerk ein einfaches, aber kraftvolles Modell für Mustererkennung und assoziatives Gedächtnis ist. Seine Fähigkeit, fehlende oder verrauschte Informationen zu rekonstruieren, macht es zu einem wichtigen Modell in der frühen Forschung der Künstlichen Intelligenz."
   ]
  },
  {
   "cell_type": "markdown",
   "id": "45385aa7-0578-429a-bbab-5805b99b8a0a",
   "metadata": {},
   "source": [
    "### Ein einfaches Hopfield-Netz"
   ]
  },
  {
   "cell_type": "code",
   "execution_count": 1,
   "id": "aa304aa0-e6ab-457f-a0b6-647bead3a3ca",
   "metadata": {},
   "outputs": [],
   "source": [
    "import numpy as np\n",
    "import matplotlib.pyplot as plt"
   ]
  },
  {
   "cell_type": "code",
   "execution_count": 2,
   "id": "6da0daca-cacd-4a07-8fa5-6111d87a39a2",
   "metadata": {},
   "outputs": [
    {
     "name": "stdout",
     "output_type": "stream",
     "text": [
      "<__main__.HopfieldNetwork object at 0x000001FF60BB3370>\n"
     ]
    }
   ],
   "source": [
    "class HopfieldNetwork:\n",
    "    def __init__(self,shape):\n",
    "        self.shape = shape\n",
    "        num_neurons = np.prod(shape)\n",
    "        self.weights = np.zeros((num_neurons, num_neurons))\n",
    "    \n",
    "    def train(self, patterns):\n",
    "        for pattern in patterns:\n",
    "            flat_pattern = pattern.flatten()\n",
    "            self.weights += np.outer(flat_pattern, flat_pattern)\n",
    "        np.fill_diagonal(self.weights, 0)\n",
    "        self.weights /= len(patterns)\n",
    "    \n",
    "    def recall(self, pattern, steps=5):\n",
    "        flat_pattern = pattern.flatten()\n",
    "        for _ in range(steps):\n",
    "            flat_pattern = np.sign(self.weights @ flat_pattern)\n",
    "        return flat_pattern.reshape(self.shape)\n",
    "\n",
    "hop = HopfieldNetwork((2,3))\n",
    "print(hop)\n"
   ]
  },
  {
   "cell_type": "markdown",
   "id": "5d7f3bce-251c-47a9-a25f-285748b309ab",
   "metadata": {},
   "source": [
    "### Demonstration des Hopfield-Netzes"
   ]
  },
  {
   "cell_type": "code",
   "execution_count": 3,
   "id": "1756825f-70ba-44d5-a8b0-45642de6af85",
   "metadata": {},
   "outputs": [],
   "source": [
    "def add_noise(pattern, noise_level=0.1):\n",
    "    noisy_pattern = pattern.copy()\n",
    "    num_noisy_bits = int(noise_level * pattern.size)\n",
    "    flip_indices = np.random.choice(pattern.size, num_noisy_bits, replace=False)\n",
    "    noisy_pattern.flat[flip_indices] *= -1\n",
    "    return noisy_pattern\n",
    "\n",
    "def plot_patterns(patterns, title):\n",
    "    fig, axes = plt.subplots(1, len(patterns), figsize=(2,1))\n",
    "    for ax, pattern in zip(axes, patterns):\n",
    "        ax.imshow(pattern, cmap='winter')\n",
    "        ax.axis('off')\n",
    "    plt.suptitle(title)\n",
    "    plt.show()"
   ]
  },
  {
   "cell_type": "markdown",
   "id": "6e7c5937-9a0f-4999-8519-f47a9e063d54",
   "metadata": {},
   "source": [
    "#### Beispielmuster"
   ]
  },
  {
   "cell_type": "code",
   "execution_count": 4,
   "id": "953e835b-d380-4ce4-8136-06f1470e55c2",
   "metadata": {},
   "outputs": [],
   "source": [
    "patterns = [\n",
    "        np.array([1, -1, 1,-1, 1, -1,1, -1, 1]).reshape(3,3),\n",
    "        np.array([-1, 1, -1, 1, -1, 1, -1, 1, -1]).reshape(3,3),\n",
    "        np.array([1, 1, -1, -1, -1, 1, 1, 1, -1]).reshape(3,3)\n",
    "]"
   ]
  },
  {
   "cell_type": "code",
   "execution_count": 9,
   "id": "deff0010-f28d-4334-8e8d-7387da88c525",
   "metadata": {},
   "outputs": [
    {
     "data": {
      "image/png": "[encoded data removed]",
      "text/plain": [
       "<Figure size 200x100 with 3 Axes>"
      ]
     },
     "metadata": {},
     "output_type": "display_data"
    },
    {
     "data": {
      "image/png": "[encoded data removed]",
      "text/plain": [
       "<Figure size 200x100 with 3 Axes>"
      ]
     },
     "metadata": {},
     "output_type": "display_data"
    },
    {
     "data": {
      "image/png": "[encoded data removed]",
      "text/plain": [
       "<Figure size 200x100 with 3 Axes>"
      ]
     },
     "metadata": {},
     "output_type": "display_data"
    }
   ],
   "source": [
    "hop = HopfieldNetwork((3,3))\n",
    "hop.train(patterns)\n",
    "\n",
    "for i, pattern in enumerate(patterns):\n",
    "    noisy_pattern = add_noise(pattern, noise_level=0.2)\n",
    "    recalled_pattern = hop.recall(noisy_pattern)\n",
    "    plot_patterns([pattern, noisy_pattern, recalled_pattern], f\"Muster {i+1}\")"
   ]
  },
  {
   "cell_type": "code",
   "execution_count": null,
   "id": "1bbcd8f2-5c98-4fda-93a8-d38e2f32ed05",
   "metadata": {},
   "outputs": [],
   "source": []
  }
 ],
 "metadata": {
  "kernelspec": {
   "display_name": "Python 3 (ipykernel)",
   "language": "python",
   "name": "python3"
  },
  "language_info": {
   "codemirror_mode": {
    "name": "ipython",
    "version": 3
   },
   "file_extension": ".py",
   "mimetype": "text/x-python",
   "name": "python",
   "nbconvert_exporter": "python",
   "pygments_lexer": "ipython3",
   "version": "3.10.13"
  }
 },
 "nbformat": 4,
 "nbformat_minor": 5
}
